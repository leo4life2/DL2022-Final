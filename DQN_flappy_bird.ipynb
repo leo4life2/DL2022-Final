{
 "cells": [
  {
   "cell_type": "markdown",
   "id": "d5cf0c70",
   "metadata": {},
   "source": [
    "### Deep Learning Final Project\n",
    "#### Playing Flappy Bird Using Reinforcement Learning\n",
    "Leo Li(), Zhangnan Jiang(), Zichen Yang()\n",
    "In this project, we would like to build our own reinforcement learning neural network to play the\n",
    "Flappy Bird game."
   ]
  },
  {
   "cell_type": "markdown",
   "id": "b57cbdd0",
   "metadata": {},
   "source": [
    "#### Importing necessary libraries:"
   ]
  },
  {
   "cell_type": "code",
   "execution_count": 1,
   "id": "101089b9",
   "metadata": {},
   "outputs": [],
   "source": [
    "import os\n",
    "import cv2\n",
    "import shutil\n",
    "import numpy as np\n",
    "import torch\n",
    "import torch.nn as nn\n",
    "import torchsummary\n",
    "from random import random, randint, sample\n",
    "from tensorboardX import SummaryWriter"
   ]
  },
  {
   "cell_type": "markdown",
   "id": "caaf5867",
   "metadata": {},
   "source": [
    "#### Defining function used to preprocess game frame data (converting to grayscale):"
   ]
  },
  {
   "cell_type": "code",
   "execution_count": 2,
   "id": "8f2cdd19",
   "metadata": {},
   "outputs": [],
   "source": [
    "def pre_processing(image, width, height):\n",
    "    image = cv2.cvtColor(cv2.resize(image, (width, height)), cv2.COLOR_BGR2GRAY)\n",
    "    _, image = cv2.threshold(image, 1, 255, cv2.THRESH_BINARY)\n",
    "    return image[None, :, :].astype(np.float32)\n"
   ]
  },
  {
   "cell_type": "markdown",
   "id": "2541b69d",
   "metadata": {},
   "source": [
    "#### Defining Model Structure:"
   ]
  },
  {
   "cell_type": "code",
   "execution_count": 3,
   "id": "97ee1f50",
   "metadata": {},
   "outputs": [],
   "source": [
    "class DeepQNetwork(nn.Module):\n",
    "    def __init__(self):\n",
    "        super(DeepQNetwork, self).__init__()\n",
    "\n",
    "        self.conv1 = nn.Sequential(nn.Conv2d(4, 32, kernel_size=8, stride=4), nn.ReLU(inplace=True))\n",
    "        self.conv2 = nn.Sequential(nn.Conv2d(32, 64, kernel_size=4, stride=2), nn.ReLU(inplace=True))\n",
    "        self.conv3 = nn.Sequential(nn.Conv2d(64, 64, kernel_size=3, stride=1), nn.ReLU(inplace=True))\n",
    "\n",
    "        self.fc1 = nn.Sequential(nn.Linear(7 * 7 * 64, 512), nn.ReLU(inplace=True))\n",
    "        self.fc2 = nn.Linear(512, 2)\n",
    "        self.init_weights()\n",
    "\n",
    "    def init_weights(self):\n",
    "        for module in self.modules():\n",
    "            if isinstance(module, nn.Conv2d) or isinstance(module, nn.Linear):\n",
    "                nn.init.uniform_(module.weight, -0.01, 0.01)\n",
    "                nn.init.constant_(module.bias, 0)\n",
    "\n",
    "    def forward(self, x):\n",
    "        x = self.conv1(x)\n",
    "        x = self.conv2(x)\n",
    "        x = self.conv3(x)\n",
    "        x = output.view(x.size(0), -1)\n",
    "        x = self.fc1(x)\n",
    "        x = self.fc2(x)\n",
    "\n",
    "        return output\n"
   ]
  },
  {
   "cell_type": "code",
   "execution_count": 4,
   "id": "cbb0d15f",
   "metadata": {},
   "outputs": [
    {
     "data": {
      "text/plain": [
       "True"
      ]
     },
     "execution_count": 4,
     "metadata": {},
     "output_type": "execute_result"
    }
   ],
   "source": [
    "torch.cuda.is_available()"
   ]
  },
  {
   "cell_type": "markdown",
   "id": "d5086c4d",
   "metadata": {},
   "source": [
    "#### The training procedure:"
   ]
  },
  {
   "cell_type": "code",
   "execution_count": 5,
   "id": "d0a08c0a",
   "metadata": {},
   "outputs": [],
   "source": [
    "saved_path=\"trained_models/flappy_bird\"\n",
    "log_path=\"tensorboard\"\n",
    "image_size=84\n",
    "lr=1e-6\n",
    "num_iters=2000000\n",
    "initial_epsilon=0.1\n",
    "final_epsilon=1e-4\n",
    "replay_memory_size=50000\n",
    "gamma=0.99\n",
    "batch_size=32"
   ]
  },
  {
   "cell_type": "code",
   "execution_count": 6,
   "id": "3a45575f",
   "metadata": {},
   "outputs": [
    {
     "name": "stderr",
     "output_type": "stream",
     "text": [
      "/home/lionel/anaconda3/envs/deep3d_pytorch/lib/python3.6/site-packages/torch/serialization.py:671: SourceChangeWarning: source code of class 'src.deep_q_network.DeepQNetwork' has changed. you can retrieve the original source code by accessing the object's source attribute or set `torch.nn.Module.dump_patches = True` and use the patch tool to revert the changes.\n",
      "  warnings.warn(msg, SourceChangeWarning)\n",
      "/home/lionel/anaconda3/envs/deep3d_pytorch/lib/python3.6/site-packages/torch/serialization.py:671: SourceChangeWarning: source code of class 'torch.nn.modules.container.Sequential' has changed. you can retrieve the original source code by accessing the object's source attribute or set `torch.nn.Module.dump_patches = True` and use the patch tool to revert the changes.\n",
      "  warnings.warn(msg, SourceChangeWarning)\n",
      "/home/lionel/anaconda3/envs/deep3d_pytorch/lib/python3.6/site-packages/torch/serialization.py:671: SourceChangeWarning: source code of class 'torch.nn.modules.conv.Conv2d' has changed. you can retrieve the original source code by accessing the object's source attribute or set `torch.nn.Module.dump_patches = True` and use the patch tool to revert the changes.\n",
      "  warnings.warn(msg, SourceChangeWarning)\n",
      "/home/lionel/anaconda3/envs/deep3d_pytorch/lib/python3.6/site-packages/torch/serialization.py:671: SourceChangeWarning: source code of class 'torch.nn.modules.activation.ReLU' has changed. you can retrieve the original source code by accessing the object's source attribute or set `torch.nn.Module.dump_patches = True` and use the patch tool to revert the changes.\n",
      "  warnings.warn(msg, SourceChangeWarning)\n",
      "/home/lionel/anaconda3/envs/deep3d_pytorch/lib/python3.6/site-packages/torch/serialization.py:671: SourceChangeWarning: source code of class 'torch.nn.modules.linear.Linear' has changed. you can retrieve the original source code by accessing the object's source attribute or set `torch.nn.Module.dump_patches = True` and use the patch tool to revert the changes.\n",
      "  warnings.warn(msg, SourceChangeWarning)\n"
     ]
    }
   ],
   "source": [
    "torch.cuda.manual_seed(123)\n",
    "model = DeepQNetwork()\n",
    "model = torch.load(\"trained_models/flappy_bird\")\n",
    "# torchsummary.summary(model, (4, 8, 8))"
   ]
  },
  {
   "cell_type": "code",
   "execution_count": 7,
   "id": "eeecc8d7",
   "metadata": {},
   "outputs": [],
   "source": [
    "if os.path.isdir(log_path):\n",
    "        shutil.rmtree(log_path)\n",
    "os.makedirs(log_path)\n",
    "writer = SummaryWriter(log_path)"
   ]
  },
  {
   "cell_type": "code",
   "execution_count": 8,
   "id": "3014f6b9",
   "metadata": {},
   "outputs": [
    {
     "data": {
      "text/html": [
       "\n",
       "      <iframe id=\"tensorboard-frame-b332e48dc678fac7\" width=\"100%\" height=\"800\" frameborder=\"0\">\n",
       "      </iframe>\n",
       "      <script>\n",
       "        (function() {\n",
       "          const frame = document.getElementById(\"tensorboard-frame-b332e48dc678fac7\");\n",
       "          const url = new URL(\"/\", window.location);\n",
       "          url.port = 6006;\n",
       "          frame.src = url;\n",
       "        })();\n",
       "      </script>\n",
       "  "
      ],
      "text/plain": [
       "<IPython.core.display.HTML object>"
      ]
     },
     "metadata": {},
     "output_type": "display_data"
    }
   ],
   "source": [
    "%load_ext tensorboard\n",
    "%tensorboard --logdir tensorboard"
   ]
  },
  {
   "cell_type": "code",
   "execution_count": 9,
   "id": "f4b61e60",
   "metadata": {},
   "outputs": [],
   "source": [
    "optimizer = torch.optim.Adam(model.parameters(), lr=lr)\n",
    "criterion = nn.MSELoss()"
   ]
  },
  {
   "cell_type": "code",
   "execution_count": 10,
   "id": "77720da3",
   "metadata": {},
   "outputs": [
    {
     "name": "stdout",
     "output_type": "stream",
     "text": [
      "pygame 2.1.2 (SDL 2.0.16, Python 3.6.15)\n",
      "Hello from the pygame community. https://www.pygame.org/contribute.html\n"
     ]
    }
   ],
   "source": [
    "from src.flappy_bird import FlappyBird\n",
    "game_state = FlappyBird()\n",
    "image, reward, terminal = game_state.next_frame(0)\n",
    "image = pre_processing(image[:game_state.screen_width, :int(game_state.base_y)], image_size, image_size)\n",
    "image = torch.from_numpy(image)"
   ]
  },
  {
   "cell_type": "code",
   "execution_count": 11,
   "id": "6a1feabf",
   "metadata": {},
   "outputs": [],
   "source": [
    "model.cuda()\n",
    "image = image.cuda()\n",
    "state = torch.cat(tuple(image for _ in range(4)))[None, :, :, :]"
   ]
  },
  {
   "cell_type": "code",
   "execution_count": 12,
   "id": "4733cde9",
   "metadata": {},
   "outputs": [],
   "source": [
    "replay_memory = []\n",
    "iter = 0"
   ]
  },
  {
   "cell_type": "code",
   "execution_count": 13,
   "id": "41fc17cb",
   "metadata": {
    "scrolled": true
   },
   "outputs": [
    {
     "name": "stdout",
     "output_type": "stream",
     "text": [
      "Current FPS:  30.303030014038086\n",
      "Current FPS:  30.21148109436035\n",
      "Current FPS:  30.1204833984375\n",
      "Current FPS:  30.21148109436035\n",
      "Current FPS:  30.395137786865234\n",
      "Current FPS:  30.21148109436035\n",
      "Current FPS:  30.21148109436035\n",
      "Current FPS:  30.303030014038086\n",
      "Current FPS:  30.21148109436035\n",
      "Current FPS:  30.303030014038086\n",
      "Current FPS:  30.395137786865234\n",
      "Current FPS:  30.395137786865234\n",
      "Current FPS:  30.21148109436035\n",
      "Current FPS:  30.1204833984375\n",
      "Current FPS:  30.1204833984375\n",
      "Current FPS:  30.21148109436035\n",
      "Current FPS:  30.21148109436035\n",
      "Iteration: 1001/2000000, Action: 0, Loss: 0.0043078092858195305, Epsilon 0.09995009995000001, Reward: 0.1, Q-value: 1.3297972679138184\n",
      "Current FPS:  30.303030014038086\n",
      "Current FPS:  30.21148109436035\n",
      "Current FPS:  30.303030014038086\n",
      "Current FPS:  30.303030014038086\n",
      "Current FPS:  30.1204833984375\n",
      "Current FPS:  30.303030014038086\n",
      "Current FPS:  30.303030014038086\n",
      "Current FPS:  30.21148109436035\n",
      "Current FPS:  30.1204833984375\n",
      "Current FPS:  30.21148109436035\n",
      "Current FPS:  30.303030014038086\n",
      "Current FPS:  30.030029296875\n",
      "Current FPS:  30.303030014038086\n",
      "Current FPS:  30.303030014038086\n",
      "Current FPS:  30.21148109436035\n",
      "Current FPS:  29.940120697021484\n",
      "Current FPS:  30.1204833984375\n",
      "Current FPS:  30.395137786865234\n",
      "Current FPS:  30.21148109436035\n",
      "Iteration: 2001/2000000, Action: 0, Loss: 0.0042616985738277435, Epsilon 0.09990014995, Reward: 0.1, Q-value: 2.841256618499756\n",
      "Current FPS:  30.303030014038086\n",
      "Current FPS:  30.303030014038086\n",
      "Current FPS:  30.303030014038086\n",
      "Current FPS:  30.303030014038086\n",
      "Current FPS:  30.303030014038086\n",
      "Current FPS:  30.303030014038086\n",
      "Current FPS:  30.21148109436035\n",
      "Current FPS:  30.21148109436035\n",
      "Current FPS:  30.21148109436035\n",
      "Current FPS:  30.1204833984375\n",
      "Current FPS:  30.395137786865234\n",
      "Current FPS:  30.303030014038086\n",
      "Current FPS:  30.303030014038086\n",
      "Current FPS:  30.1204833984375\n",
      "Current FPS:  30.303030014038086\n",
      "Current FPS:  30.303030014038086\n",
      "Current FPS:  30.21148109436035\n",
      "Iteration: 3001/2000000, Action: 1, Loss: 0.0068336366675794125, Epsilon 0.09985019995000001, Reward: 0.1, Q-value: -0.43751487135887146\n",
      "Current FPS:  30.1204833984375\n",
      "Current FPS:  30.1204833984375\n",
      "Current FPS:  30.303030014038086\n",
      "Current FPS:  30.1204833984375\n",
      "Current FPS:  30.303030014038086\n",
      "Current FPS:  30.21148109436035\n",
      "Current FPS:  30.21148109436035\n",
      "Current FPS:  30.303030014038086\n",
      "Current FPS:  30.303030014038086\n",
      "Current FPS:  30.303030014038086\n",
      "Current FPS:  30.21148109436035\n",
      "Current FPS:  30.303030014038086\n",
      "Current FPS:  30.303030014038086\n",
      "Current FPS:  30.21148109436035\n",
      "Current FPS:  30.303030014038086\n",
      "Current FPS:  30.395137786865234\n",
      "Iteration: 4001/2000000, Action: 0, Loss: 0.006626554764807224, Epsilon 0.09980024995, Reward: 0.1, Q-value: -0.18548381328582764\n",
      "Current FPS:  30.21148109436035\n",
      "Current FPS:  30.1204833984375\n",
      "Current FPS:  30.21148109436035\n",
      "Current FPS:  30.21148109436035\n",
      "Current FPS:  30.303030014038086\n",
      "Current FPS:  30.303030014038086\n",
      "Current FPS:  30.303030014038086\n",
      "Current FPS:  30.21148109436035\n",
      "Current FPS:  30.303030014038086\n",
      "Current FPS:  30.303030014038086\n",
      "Current FPS:  30.21148109436035\n",
      "Current FPS:  30.21148109436035\n",
      "Current FPS:  30.21148109436035\n",
      "Current FPS:  30.303030014038086\n",
      "Current FPS:  30.21148109436035\n",
      "Current FPS:  30.303030014038086\n",
      "Iteration: 5001/2000000, Action: 0, Loss: 0.007688891142606735, Epsilon 0.09975029995000001, Reward: 0.1, Q-value: -0.4145437479019165\n",
      "Current FPS:  30.303030014038086\n",
      "Current FPS:  30.395137786865234\n",
      "Current FPS:  30.21148109436035\n",
      "Current FPS:  30.21148109436035\n",
      "Current FPS:  30.21148109436035\n",
      "Current FPS:  30.303030014038086\n",
      "Current FPS:  30.1204833984375\n",
      "Current FPS:  30.21148109436035\n",
      "Current FPS:  30.1204833984375\n",
      "Current FPS:  30.1204833984375\n",
      "Current FPS:  30.21148109436035\n",
      "Current FPS:  30.303030014038086\n",
      "Current FPS:  30.1204833984375\n",
      "Current FPS:  30.303030014038086\n",
      "Current FPS:  30.1204833984375\n",
      "Iteration: 6001/2000000, Action: 1, Loss: 0.00518096424639225, Epsilon 0.09970034995, Reward: 0.1, Q-value: 1.2272158861160278\n",
      "Current FPS:  30.1204833984375\n",
      "Current FPS:  30.21148109436035\n",
      "Current FPS:  30.303030014038086\n",
      "Current FPS:  30.1204833984375\n",
      "Current FPS:  30.303030014038086\n",
      "Current FPS:  30.1204833984375\n",
      "Current FPS:  30.303030014038086\n",
      "Current FPS:  30.1204833984375\n",
      "Current FPS:  30.1204833984375\n",
      "Current FPS:  30.395137786865234\n",
      "Current FPS:  30.21148109436035\n",
      "Current FPS:  30.1204833984375\n",
      "Current FPS:  30.395137786865234\n",
      "Current FPS:  30.303030014038086\n",
      "Current FPS:  30.21148109436035\n",
      "Current FPS:  30.303030014038086\n",
      "Current FPS:  30.030029296875\n",
      "Current FPS:  30.21148109436035\n",
      "Current FPS:  30.21148109436035\n",
      "Iteration: 7001/2000000, Action: 0, Loss: 0.005765154957771301, Epsilon 0.09965039995000001, Reward: 0.1, Q-value: -0.3657238483428955\n",
      "Current FPS:  30.1204833984375\n",
      "Current FPS:  30.303030014038086\n",
      "Current FPS:  30.303030014038086\n",
      "Current FPS:  30.303030014038086\n",
      "Current FPS:  30.303030014038086\n",
      "Current FPS:  30.303030014038086\n",
      "Current FPS:  30.21148109436035\n",
      "Current FPS:  30.303030014038086\n",
      "Current FPS:  30.21148109436035\n",
      "Current FPS:  30.21148109436035\n",
      "Current FPS:  30.303030014038086\n",
      "Current FPS:  30.303030014038086\n",
      "Current FPS:  30.303030014038086\n",
      "Current FPS:  30.395137786865234\n",
      "Current FPS:  30.21148109436035\n",
      "Current FPS:  30.21148109436035\n",
      "Current FPS:  30.395137786865234\n",
      "Current FPS:  30.21148109436035\n",
      "Current FPS:  30.303030014038086\n",
      "Current FPS:  30.303030014038086\n",
      "Current FPS:  30.21148109436035\n",
      "Iteration: 8001/2000000, Action: 1, Loss: 0.0056748283095657825, Epsilon 0.09960044995000002, Reward: 0.1, Q-value: -0.9709118604660034\n",
      "Current FPS:  30.303030014038086\n",
      "Current FPS:  30.303030014038086\n",
      "Current FPS:  30.21148109436035\n",
      "Current FPS:  30.303030014038086\n",
      "Current FPS:  30.303030014038086\n",
      "Current FPS:  30.21148109436035\n",
      "Current FPS:  30.21148109436035\n",
      "Current FPS:  30.21148109436035\n",
      "Current FPS:  30.303030014038086\n",
      "Current FPS:  30.21148109436035\n",
      "Current FPS:  30.21148109436035\n",
      "Current FPS:  30.303030014038086\n",
      "Current FPS:  30.303030014038086\n",
      "Current FPS:  30.1204833984375\n",
      "Current FPS:  30.1204833984375\n",
      "Current FPS:  30.1204833984375\n",
      "Iteration: 9001/2000000, Action: 0, Loss: 0.007214830256998539, Epsilon 0.09955049995, Reward: 0.1, Q-value: -0.020826173946261406\n",
      "Current FPS:  30.21148109436035\n",
      "Current FPS:  30.303030014038086\n",
      "Current FPS:  30.1204833984375\n",
      "Current FPS:  30.303030014038086\n",
      "Current FPS:  30.303030014038086\n",
      "Current FPS:  30.303030014038086\n",
      "Current FPS:  30.21148109436035\n",
      "Current FPS:  30.21148109436035\n",
      "Current FPS:  30.303030014038086\n",
      "Current FPS:  30.21148109436035\n",
      "Current FPS:  30.303030014038086\n",
      "Current FPS:  30.303030014038086\n",
      "Current FPS:  30.303030014038086\n",
      "Current FPS:  30.1204833984375\n",
      "Current FPS:  30.1204833984375\n",
      "Current FPS:  30.1204833984375\n",
      "Current FPS:  30.303030014038086\n",
      "Iteration: 10001/2000000, Action: 0, Loss: 0.004922112450003624, Epsilon 0.09950054995, Reward: 0.1, Q-value: -0.6748188734054565\n",
      "Current FPS:  30.1204833984375\n",
      "Current FPS:  30.21148109436035\n",
      "Current FPS:  30.303030014038086\n",
      "Current FPS:  30.1204833984375\n",
      "Current FPS:  30.303030014038086\n",
      "Current FPS:  30.303030014038086\n",
      "Current FPS:  30.395137786865234\n",
      "Current FPS:  30.21148109436035\n",
      "Current FPS:  30.21148109436035\n",
      "Current FPS:  30.303030014038086\n",
      "Current FPS:  30.030029296875\n",
      "Current FPS:  30.303030014038086\n",
      "Current FPS:  30.21148109436035\n",
      "Current FPS:  30.21148109436035\n",
      "Current FPS:  30.21148109436035\n",
      "Current FPS:  30.395137786865234\n",
      "Current FPS:  30.303030014038086\n",
      "Current FPS:  30.21148109436035\n",
      "Current FPS:  30.303030014038086\n",
      "Current FPS:  30.303030014038086\n",
      "Iteration: 11001/2000000, Action: 0, Loss: 0.004753129091113806, Epsilon 0.09945059995000001, Reward: 0.1, Q-value: 1.6406890153884888\n",
      "Current FPS:  30.303030014038086\n",
      "Current FPS:  30.21148109436035\n",
      "Current FPS:  30.21148109436035\n",
      "Current FPS:  30.395137786865234\n",
      "Saving model before quit\n"
     ]
    },
    {
     "ename": "NotADirectoryError",
     "evalue": "[Errno 20] Not a directory: 'trained_models/flappy_bird/fireball_flappy_bird_init11235'",
     "output_type": "error",
     "traceback": [
      "\u001b[0;31m---------------------------------------------------------------------------\u001b[0m",
      "\u001b[0;31mKeyboardInterrupt\u001b[0m                         Traceback (most recent call last)",
      "\u001b[0;32m<ipython-input-13-7d37bddf8c9e>\u001b[0m in \u001b[0;36m<module>\u001b[0;34m\u001b[0m\n\u001b[1;32m     50\u001b[0m         \u001b[0mloss\u001b[0m \u001b[0;34m=\u001b[0m \u001b[0mcriterion\u001b[0m\u001b[0;34m(\u001b[0m\u001b[0mq_value\u001b[0m\u001b[0;34m,\u001b[0m \u001b[0my_batch\u001b[0m\u001b[0;34m)\u001b[0m\u001b[0;34m\u001b[0m\u001b[0;34m\u001b[0m\u001b[0m\n\u001b[0;32m---> 51\u001b[0;31m         \u001b[0mloss\u001b[0m\u001b[0;34m.\u001b[0m\u001b[0mbackward\u001b[0m\u001b[0;34m(\u001b[0m\u001b[0;34m)\u001b[0m\u001b[0;34m\u001b[0m\u001b[0;34m\u001b[0m\u001b[0m\n\u001b[0m\u001b[1;32m     52\u001b[0m         \u001b[0moptimizer\u001b[0m\u001b[0;34m.\u001b[0m\u001b[0mstep\u001b[0m\u001b[0;34m(\u001b[0m\u001b[0;34m)\u001b[0m\u001b[0;34m\u001b[0m\u001b[0;34m\u001b[0m\u001b[0m\n",
      "\u001b[0;32m~/anaconda3/envs/deep3d_pytorch/lib/python3.6/site-packages/torch/_tensor.py\u001b[0m in \u001b[0;36mbackward\u001b[0;34m(self, gradient, retain_graph, create_graph, inputs)\u001b[0m\n\u001b[1;32m    306\u001b[0m                 inputs=inputs)\n\u001b[0;32m--> 307\u001b[0;31m         \u001b[0mtorch\u001b[0m\u001b[0;34m.\u001b[0m\u001b[0mautograd\u001b[0m\u001b[0;34m.\u001b[0m\u001b[0mbackward\u001b[0m\u001b[0;34m(\u001b[0m\u001b[0mself\u001b[0m\u001b[0;34m,\u001b[0m \u001b[0mgradient\u001b[0m\u001b[0;34m,\u001b[0m \u001b[0mretain_graph\u001b[0m\u001b[0;34m,\u001b[0m \u001b[0mcreate_graph\u001b[0m\u001b[0;34m,\u001b[0m \u001b[0minputs\u001b[0m\u001b[0;34m=\u001b[0m\u001b[0minputs\u001b[0m\u001b[0;34m)\u001b[0m\u001b[0;34m\u001b[0m\u001b[0;34m\u001b[0m\u001b[0m\n\u001b[0m\u001b[1;32m    308\u001b[0m \u001b[0;34m\u001b[0m\u001b[0m\n",
      "\u001b[0;32m~/anaconda3/envs/deep3d_pytorch/lib/python3.6/site-packages/torch/autograd/__init__.py\u001b[0m in \u001b[0;36mbackward\u001b[0;34m(tensors, grad_tensors, retain_graph, create_graph, grad_variables, inputs)\u001b[0m\n\u001b[1;32m    155\u001b[0m         \u001b[0mtensors\u001b[0m\u001b[0;34m,\u001b[0m \u001b[0mgrad_tensors_\u001b[0m\u001b[0;34m,\u001b[0m \u001b[0mretain_graph\u001b[0m\u001b[0;34m,\u001b[0m \u001b[0mcreate_graph\u001b[0m\u001b[0;34m,\u001b[0m \u001b[0minputs\u001b[0m\u001b[0;34m,\u001b[0m\u001b[0;34m\u001b[0m\u001b[0;34m\u001b[0m\u001b[0m\n\u001b[0;32m--> 156\u001b[0;31m         allow_unreachable=True, accumulate_grad=True)  # allow_unreachable flag\n\u001b[0m\u001b[1;32m    157\u001b[0m \u001b[0;34m\u001b[0m\u001b[0m\n",
      "\u001b[0;31mKeyboardInterrupt\u001b[0m: ",
      "\nDuring handling of the above exception, another exception occurred:\n",
      "\u001b[0;31mNotADirectoryError\u001b[0m                        Traceback (most recent call last)",
      "\u001b[0;32m<ipython-input-13-7d37bddf8c9e>\u001b[0m in \u001b[0;36m<module>\u001b[0;34m\u001b[0m\n\u001b[1;32m     70\u001b[0m \u001b[0;32mexcept\u001b[0m \u001b[0mKeyboardInterrupt\u001b[0m\u001b[0;34m:\u001b[0m\u001b[0;34m\u001b[0m\u001b[0;34m\u001b[0m\u001b[0m\n\u001b[1;32m     71\u001b[0m     \u001b[0mprint\u001b[0m\u001b[0;34m(\u001b[0m\u001b[0;34m\"Saving model before quit\"\u001b[0m\u001b[0;34m)\u001b[0m\u001b[0;34m\u001b[0m\u001b[0;34m\u001b[0m\u001b[0m\n\u001b[0;32m---> 72\u001b[0;31m     \u001b[0mtorch\u001b[0m\u001b[0;34m.\u001b[0m\u001b[0msave\u001b[0m\u001b[0;34m(\u001b[0m\u001b[0mmodel\u001b[0m\u001b[0;34m,\u001b[0m \u001b[0;34m\"{}/fireball_flappy_bird_init{}\"\u001b[0m\u001b[0;34m.\u001b[0m\u001b[0mformat\u001b[0m\u001b[0;34m(\u001b[0m\u001b[0msaved_path\u001b[0m\u001b[0;34m,\u001b[0m \u001b[0miter\u001b[0m\u001b[0;34m+\u001b[0m\u001b[0;36m1\u001b[0m\u001b[0;34m)\u001b[0m\u001b[0;34m)\u001b[0m\u001b[0;34m\u001b[0m\u001b[0;34m\u001b[0m\u001b[0m\n\u001b[0m\u001b[1;32m     73\u001b[0m \u001b[0mtorch\u001b[0m\u001b[0;34m.\u001b[0m\u001b[0msave\u001b[0m\u001b[0;34m(\u001b[0m\u001b[0mmodel\u001b[0m\u001b[0;34m,\u001b[0m \u001b[0;34m\"{}/fireball_flappy_bird_init\"\u001b[0m\u001b[0;34m.\u001b[0m\u001b[0mformat\u001b[0m\u001b[0;34m(\u001b[0m\u001b[0msaved_path\u001b[0m\u001b[0;34m)\u001b[0m\u001b[0;34m)\u001b[0m\u001b[0;34m\u001b[0m\u001b[0;34m\u001b[0m\u001b[0m\n",
      "\u001b[0;32m~/anaconda3/envs/deep3d_pytorch/lib/python3.6/site-packages/torch/serialization.py\u001b[0m in \u001b[0;36msave\u001b[0;34m(obj, f, pickle_module, pickle_protocol, _use_new_zipfile_serialization)\u001b[0m\n\u001b[1;32m    374\u001b[0m     \u001b[0m_check_dill_version\u001b[0m\u001b[0;34m(\u001b[0m\u001b[0mpickle_module\u001b[0m\u001b[0;34m)\u001b[0m\u001b[0;34m\u001b[0m\u001b[0;34m\u001b[0m\u001b[0m\n\u001b[1;32m    375\u001b[0m \u001b[0;34m\u001b[0m\u001b[0m\n\u001b[0;32m--> 376\u001b[0;31m     \u001b[0;32mwith\u001b[0m \u001b[0m_open_file_like\u001b[0m\u001b[0;34m(\u001b[0m\u001b[0mf\u001b[0m\u001b[0;34m,\u001b[0m \u001b[0;34m'wb'\u001b[0m\u001b[0;34m)\u001b[0m \u001b[0;32mas\u001b[0m \u001b[0mopened_file\u001b[0m\u001b[0;34m:\u001b[0m\u001b[0;34m\u001b[0m\u001b[0;34m\u001b[0m\u001b[0m\n\u001b[0m\u001b[1;32m    377\u001b[0m         \u001b[0;32mif\u001b[0m \u001b[0m_use_new_zipfile_serialization\u001b[0m\u001b[0;34m:\u001b[0m\u001b[0;34m\u001b[0m\u001b[0;34m\u001b[0m\u001b[0m\n\u001b[1;32m    378\u001b[0m             \u001b[0;32mwith\u001b[0m \u001b[0m_open_zipfile_writer\u001b[0m\u001b[0;34m(\u001b[0m\u001b[0mopened_file\u001b[0m\u001b[0;34m)\u001b[0m \u001b[0;32mas\u001b[0m \u001b[0mopened_zipfile\u001b[0m\u001b[0;34m:\u001b[0m\u001b[0;34m\u001b[0m\u001b[0;34m\u001b[0m\u001b[0m\n",
      "\u001b[0;32m~/anaconda3/envs/deep3d_pytorch/lib/python3.6/site-packages/torch/serialization.py\u001b[0m in \u001b[0;36m_open_file_like\u001b[0;34m(name_or_buffer, mode)\u001b[0m\n\u001b[1;32m    228\u001b[0m \u001b[0;32mdef\u001b[0m \u001b[0m_open_file_like\u001b[0m\u001b[0;34m(\u001b[0m\u001b[0mname_or_buffer\u001b[0m\u001b[0;34m,\u001b[0m \u001b[0mmode\u001b[0m\u001b[0;34m)\u001b[0m\u001b[0;34m:\u001b[0m\u001b[0;34m\u001b[0m\u001b[0;34m\u001b[0m\u001b[0m\n\u001b[1;32m    229\u001b[0m     \u001b[0;32mif\u001b[0m \u001b[0m_is_path\u001b[0m\u001b[0;34m(\u001b[0m\u001b[0mname_or_buffer\u001b[0m\u001b[0;34m)\u001b[0m\u001b[0;34m:\u001b[0m\u001b[0;34m\u001b[0m\u001b[0;34m\u001b[0m\u001b[0m\n\u001b[0;32m--> 230\u001b[0;31m         \u001b[0;32mreturn\u001b[0m \u001b[0m_open_file\u001b[0m\u001b[0;34m(\u001b[0m\u001b[0mname_or_buffer\u001b[0m\u001b[0;34m,\u001b[0m \u001b[0mmode\u001b[0m\u001b[0;34m)\u001b[0m\u001b[0;34m\u001b[0m\u001b[0;34m\u001b[0m\u001b[0m\n\u001b[0m\u001b[1;32m    231\u001b[0m     \u001b[0;32melse\u001b[0m\u001b[0;34m:\u001b[0m\u001b[0;34m\u001b[0m\u001b[0;34m\u001b[0m\u001b[0m\n\u001b[1;32m    232\u001b[0m         \u001b[0;32mif\u001b[0m \u001b[0;34m'w'\u001b[0m \u001b[0;32min\u001b[0m \u001b[0mmode\u001b[0m\u001b[0;34m:\u001b[0m\u001b[0;34m\u001b[0m\u001b[0;34m\u001b[0m\u001b[0m\n",
      "\u001b[0;32m~/anaconda3/envs/deep3d_pytorch/lib/python3.6/site-packages/torch/serialization.py\u001b[0m in \u001b[0;36m__init__\u001b[0;34m(self, name, mode)\u001b[0m\n\u001b[1;32m    209\u001b[0m \u001b[0;32mclass\u001b[0m \u001b[0m_open_file\u001b[0m\u001b[0;34m(\u001b[0m\u001b[0m_opener\u001b[0m\u001b[0;34m)\u001b[0m\u001b[0;34m:\u001b[0m\u001b[0;34m\u001b[0m\u001b[0;34m\u001b[0m\u001b[0m\n\u001b[1;32m    210\u001b[0m     \u001b[0;32mdef\u001b[0m \u001b[0m__init__\u001b[0m\u001b[0;34m(\u001b[0m\u001b[0mself\u001b[0m\u001b[0;34m,\u001b[0m \u001b[0mname\u001b[0m\u001b[0;34m,\u001b[0m \u001b[0mmode\u001b[0m\u001b[0;34m)\u001b[0m\u001b[0;34m:\u001b[0m\u001b[0;34m\u001b[0m\u001b[0;34m\u001b[0m\u001b[0m\n\u001b[0;32m--> 211\u001b[0;31m         \u001b[0msuper\u001b[0m\u001b[0;34m(\u001b[0m\u001b[0m_open_file\u001b[0m\u001b[0;34m,\u001b[0m \u001b[0mself\u001b[0m\u001b[0;34m)\u001b[0m\u001b[0;34m.\u001b[0m\u001b[0m__init__\u001b[0m\u001b[0;34m(\u001b[0m\u001b[0mopen\u001b[0m\u001b[0;34m(\u001b[0m\u001b[0mname\u001b[0m\u001b[0;34m,\u001b[0m \u001b[0mmode\u001b[0m\u001b[0;34m)\u001b[0m\u001b[0;34m)\u001b[0m\u001b[0;34m\u001b[0m\u001b[0;34m\u001b[0m\u001b[0m\n\u001b[0m\u001b[1;32m    212\u001b[0m \u001b[0;34m\u001b[0m\u001b[0m\n\u001b[1;32m    213\u001b[0m     \u001b[0;32mdef\u001b[0m \u001b[0m__exit__\u001b[0m\u001b[0;34m(\u001b[0m\u001b[0mself\u001b[0m\u001b[0;34m,\u001b[0m \u001b[0;34m*\u001b[0m\u001b[0margs\u001b[0m\u001b[0;34m)\u001b[0m\u001b[0;34m:\u001b[0m\u001b[0;34m\u001b[0m\u001b[0;34m\u001b[0m\u001b[0m\n",
      "\u001b[0;31mNotADirectoryError\u001b[0m: [Errno 20] Not a directory: 'trained_models/flappy_bird/fireball_flappy_bird_init11235'"
     ]
    }
   ],
   "source": [
    "try:\n",
    "    while iter < num_iters:\n",
    "        prediction = model(state)[0]\n",
    "        # Exploration or exploitation\n",
    "        epsilon = final_epsilon + (\n",
    "                (num_iters - iter) * (initial_epsilon - final_epsilon) / num_iters)\n",
    "        u = random()\n",
    "        random_action = u <= epsilon\n",
    "        if random_action:\n",
    "            # print(\"Perform a random action\")\n",
    "            action = randint(0, 1)\n",
    "        else:\n",
    "\n",
    "            action = torch.argmax(prediction)\n",
    "\n",
    "        next_image, reward, terminal = game_state.next_frame(action)\n",
    "        next_image = pre_processing(next_image[:game_state.screen_width, :int(game_state.base_y)], image_size,\n",
    "                                    image_size)\n",
    "        next_image = torch.from_numpy(next_image)\n",
    "        if torch.cuda.is_available():\n",
    "            next_image = next_image.cuda()\n",
    "        next_state = torch.cat((state[0, 1:, :, :], next_image))[None, :, :, :]\n",
    "        replay_memory.append([state, action, reward, next_state, terminal])\n",
    "        if len(replay_memory) > replay_memory_size:\n",
    "            del replay_memory[0]\n",
    "        batch = sample(replay_memory, min(len(replay_memory), batch_size))\n",
    "        state_batch, action_batch, reward_batch, next_state_batch, terminal_batch = zip(*batch)\n",
    "\n",
    "        state_batch = torch.cat(tuple(state for state in state_batch))\n",
    "        action_batch = torch.from_numpy(\n",
    "            np.array([[1, 0] if action == 0 else [0, 1] for action in action_batch], dtype=np.float32))\n",
    "        reward_batch = torch.from_numpy(np.array(reward_batch, dtype=np.float32)[:, None])\n",
    "        next_state_batch = torch.cat(tuple(state for state in next_state_batch))\n",
    "\n",
    "        if torch.cuda.is_available():\n",
    "            state_batch = state_batch.cuda()\n",
    "            action_batch = action_batch.cuda()\n",
    "            reward_batch = reward_batch.cuda()\n",
    "            next_state_batch = next_state_batch.cuda()\n",
    "        current_prediction_batch = model(state_batch)\n",
    "        next_prediction_batch = model(next_state_batch)\n",
    "\n",
    "        y_batch = torch.cat(\n",
    "            tuple(reward if terminal else reward + gamma * torch.max(prediction) for reward, terminal, prediction in\n",
    "                zip(reward_batch, terminal_batch, next_prediction_batch)))\n",
    "\n",
    "        q_value = torch.sum(current_prediction_batch * action_batch, dim=1)\n",
    "        optimizer.zero_grad()\n",
    "        # y_batch = y_batch.detach()\n",
    "        loss = criterion(q_value, y_batch)\n",
    "        loss.backward()\n",
    "        optimizer.step()\n",
    "\n",
    "        state = next_state\n",
    "        iter += 1\n",
    "        # only write on every 1000th iteration\n",
    "        if iter % 1000 == 0:\n",
    "            print(\"Iteration: {}/{}, Action: {}, Loss: {}, Epsilon {}, Reward: {}, Q-value: {}\".format(\n",
    "                iter + 1,\n",
    "                num_iters,\n",
    "                action,\n",
    "                loss,\n",
    "                epsilon, reward, torch.max(prediction)))\n",
    "            writer.add_scalar('Train/Loss', loss, iter)\n",
    "            writer.add_scalar('Train/Epsilon', epsilon, iter)\n",
    "            writer.add_scalar('Train/Reward', reward, iter)\n",
    "            writer.add_scalar('Train/Q-value', torch.max(prediction), iter)\n",
    "        if (iter+1) % 1000000 == 0:\n",
    "            torch.save(model, \"{}/fireball_flappy_bird_init{}\".format(saved_path, iter+1))\n",
    "except KeyboardInterrupt:\n",
    "    print(\"Saving model before quit\")\n",
    "    torch.save(model, \"{}/fireball_flappy_bird_init{}\".format(saved_path, iter+1))\n",
    "torch.save(model, \"{}/fireball_flappy_bird_init\".format(saved_path))"
   ]
  },
  {
   "cell_type": "markdown",
   "id": "e729f707",
   "metadata": {},
   "source": [
    "#### Test Procedure:"
   ]
  },
  {
   "cell_type": "code",
   "execution_count": 10,
   "id": "1e4098b9",
   "metadata": {},
   "outputs": [],
   "source": [
    "saved_path = \"trained_models\"\n",
    "image_size = 84"
   ]
  },
  {
   "cell_type": "code",
   "execution_count": 11,
   "id": "f0da98e1",
   "metadata": {},
   "outputs": [],
   "source": [
    "torch.cuda.manual_seed(123)"
   ]
  },
  {
   "cell_type": "code",
   "execution_count": 13,
   "id": "c235fa87",
   "metadata": {},
   "outputs": [
    {
     "name": "stdout",
     "output_type": "stream",
     "text": [
      "Current FPS:  30.303030014038086\n",
      "Current FPS:  30.1204833984375\n",
      "Current FPS:  30.1204833984375\n",
      "Current FPS:  30.1204833984375\n",
      "Current FPS:  30.303030014038086\n",
      "Current FPS:  30.303030014038086\n",
      "Current FPS:  30.1204833984375\n",
      "Quit\n"
     ]
    }
   ],
   "source": [
    "model = torch.load(\"{}/fireball_flappy_bird\".format(saved_path))\n",
    "\n",
    "model.eval()\n",
    "try:\n",
    "    from src.flappy_bird import FlappyBird\n",
    "    game_state = FlappyBird()\n",
    "    image, reward, terminal = game_state.next_frame(0)\n",
    "    image = pre_processing(image[:game_state.screen_width, :int(game_state.base_y)], image_size, image_size)\n",
    "    image = torch.from_numpy(image)\n",
    "    if torch.cuda.is_available():\n",
    "        model.cuda()\n",
    "        image = image.cuda()\n",
    "    state = torch.cat(tuple(image for _ in range(4)))[None, :, :, :]\n",
    "\n",
    "    while True:\n",
    "        prediction = model(state)[0]\n",
    "        action = torch.argmax(prediction)\n",
    "\n",
    "        next_image, reward, terminal = game_state.next_frame(action)\n",
    "        next_image = pre_processing(next_image[:game_state.screen_width, :int(game_state.base_y)], image_size,\n",
    "                                    image_size)\n",
    "        next_image = torch.from_numpy(next_image)\n",
    "        if torch.cuda.is_available():\n",
    "            next_image = next_image.cuda()\n",
    "        next_state = torch.cat((state[0, 1:, :, :], next_image))[None, :, :, :]\n",
    "\n",
    "        state = next_state\n",
    "except KeyboardInterrupt:\n",
    "    print(\"Quit\")"
   ]
  }
 ],
 "metadata": {
  "kernelspec": {
   "display_name": "Python 3",
   "language": "python",
   "name": "python3"
  },
  "language_info": {
   "codemirror_mode": {
    "name": "ipython",
    "version": 3
   },
   "file_extension": ".py",
   "mimetype": "text/x-python",
   "name": "python",
   "nbconvert_exporter": "python",
   "pygments_lexer": "ipython3",
   "version": "3.6.15"
  }
 },
 "nbformat": 4,
 "nbformat_minor": 5
}
